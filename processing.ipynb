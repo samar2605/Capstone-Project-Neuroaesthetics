{
 "cells": [
  {
   "cell_type": "code",
   "execution_count": 2,
   "metadata": {},
   "outputs": [],
   "source": [
    "import json\n",
    "import matplotlib.pyplot as plt"
   ]
  },
  {
   "cell_type": "code",
   "execution_count": 3,
   "metadata": {},
   "outputs": [],
   "source": [
    "def read_eye_tracking_data(file_path):\n",
    "    with open(file_path, 'r') as file:\n",
    "        lines = file.readlines()\n",
    "\n",
    "    eye_tracking_data = []\n",
    "\n",
    "    for line in lines:\n",
    "        data = json.loads(line)\n",
    "        eye_tracking_data.append(data)\n",
    "\n",
    "    return eye_tracking_data\n",
    "\n",
    "def parse_data(eye_tracking_data):\n",
    "    # Grouping data by 'gidx' and organizing it \n",
    "    grouped_data = {}\n",
    "\n",
    "    for data in eye_tracking_data:\n",
    "        gidx = data.get('gidx')\n",
    "\n",
    "        if gidx is not None:\n",
    "            if gidx not in grouped_data:\n",
    "                grouped_data[gidx] = {\n",
    "                    'ts' :None,\n",
    "                    'pdl': None,\n",
    "                    'pdr': None,\n",
    "                    'gdl': None,\n",
    "                    'gdr': None,\n",
    "                    'gp':None,\n",
    "                    'gp3': None\n",
    "                }\n",
    "\n",
    "            # Extracting pupil diameter for left and right eyes\n",
    "            ts_data = data.get('ts',None)\n",
    "            grouped_data[gidx]['ts'] = ts_data\n",
    "            pd_data = data.get('pd', None)\n",
    "            gd_data = data.get('gd',None)\n",
    "            gp_data = data.get('gp',None)\n",
    "            gp3_data = data.get('gp3',None)\n",
    "            eye = data.get('eye',None)\n",
    "            if pd_data is not None:\n",
    "                if eye =='left':\n",
    "                    grouped_data[gidx]['pdl'] = pd_data\n",
    "                elif eye =='right':\n",
    "                    grouped_data[gidx]['pdr'] = pd_data \n",
    "\n",
    "            if gd_data is not None:\n",
    "                if eye =='left':\n",
    "                    grouped_data[gidx]['gdl'] = gd_data\n",
    "                elif eye =='right':\n",
    "                    grouped_data[gidx]['gdr'] = gd_data\n",
    "            if gp_data is not None:\n",
    "                grouped_data[gidx]['gp'] = gp_data\n",
    "            if gp3_data is not None:\n",
    "                grouped_data[gidx]['gp3'] = gp3_data\n",
    "    return grouped_data\n",
    "\n",
    "def print_data(grouped_data):\n",
    "    for gidx, data_dict in grouped_data.items():\n",
    "        print(f\"Group with gidx={gidx}:\")\n",
    "        print(f\"  pdl: {data_dict['pdl']}\")\n",
    "        print(f\"  pdr: {data_dict['pdr']}\")\n",
    "        print(f\"  gdl: {data_dict['gdl']}\")\n",
    "        print(f\"  gdl: {data_dict['gdl']}\")\n",
    "        print(f\"  gp: {data_dict['gp']}\")\n",
    "        print(f\"  gp3: {data_dict['gp3']}\")\n",
    "        print(\"\\n\")"
   ]
  },
  {
   "cell_type": "code",
   "execution_count": 4,
   "metadata": {},
   "outputs": [],
   "source": [
    "file_path = 'livedata.json'\n",
    "eye_tracking_data = read_eye_tracking_data(file_path)\n",
    "grouped_data = parse_data(eye_tracking_data)\n",
    "#print_data(grouped_data)"
   ]
  },
  {
   "cell_type": "code",
   "execution_count": 5,
   "metadata": {},
   "outputs": [
    {
     "data": {
      "image/png": "[encoded data removed]",
      "text/plain": [
       "<Figure size 432x288 with 1 Axes>"
      ]
     },
     "metadata": {
      "needs_background": "light"
     },
     "output_type": "display_data"
    }
   ],
   "source": [
    "# Extracting data for plotting\n",
    "gp_values = [[data_dict['gp'][0] for data_dict in grouped_data.values()],\n",
    "              [data_dict['gp'][1] for data_dict in grouped_data.values()]]\n",
    "\n",
    "# Plotting\n",
    "plt.scatter(gp_values[0], gp_values[1])\n",
    "plt.gca().invert_yaxis()\n",
    "plt.xlabel('gp_x')\n",
    "plt.ylabel('gp_y')\n",
    "plt.title('Scatter Plot of gp_x vs gp_y')\n",
    "plt.show()"
   ]
  },
  {
   "cell_type": "code",
   "execution_count": null,
   "metadata": {},
   "outputs": [],
   "source": []
  },
  {
   "cell_type": "code",
   "execution_count": null,
   "metadata": {},
   "outputs": [],
   "source": []
  }
 ],
 "metadata": {
  "kernelspec": {
   "display_name": "base",
   "language": "python",
   "name": "python3"
  },
  "language_info": {
   "codemirror_mode": {
    "name": "ipython",
    "version": 3
   },
   "file_extension": ".py",
   "mimetype": "text/x-python",
   "name": "python",
   "nbconvert_exporter": "python",
   "pygments_lexer": "ipython3",
   "version": "3.8.8"
  }
 },
 "nbformat": 4,
 "nbformat_minor": 2
}
