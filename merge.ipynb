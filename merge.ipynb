{
 "cells": [
  {
   "cell_type": "code",
   "execution_count": 3,
   "metadata": {},
   "outputs": [
    {
     "name": "stdout",
     "output_type": "stream",
     "text": [
      "Merged data saved to subject7/data.csv\n"
     ]
    }
   ],
   "source": [
    "import pandas as pd\n",
    "\n",
    "# Specify the paths to your CSV files\n",
    "first_csv_file = \"subject7/1/data.csv\"\n",
    "second_csv_file = \"subject7/2/data.csv\"\n",
    "\n",
    "# Specify the path to save the merged CSV file\n",
    "merged_csv_file = \"subject7/data.csv\"  # You can overwrite the first file if you prefer\n",
    "\n",
    "# Read the first CSV file\n",
    "df1 = pd.read_csv(first_csv_file)\n",
    "\n",
    "# Read the second CSV file\n",
    "df2 = pd.read_csv(second_csv_file)\n",
    "\n",
    "# Append the rows of the second file to the first file\n",
    "df_merged = df1.append(df2, ignore_index=True)\n",
    "\n",
    "# Save the merged data to a new CSV file\n",
    "df_merged.to_csv(merged_csv_file, index=False)\n",
    "\n",
    "print(f'Merged data saved to {merged_csv_file}')\n"
   ]
  },
  {
   "cell_type": "code",
   "execution_count": null,
   "metadata": {},
   "outputs": [],
   "source": []
  }
 ],
 "metadata": {
  "kernelspec": {
   "display_name": "base",
   "language": "python",
   "name": "python3"
  },
  "language_info": {
   "codemirror_mode": {
    "name": "ipython",
    "version": 3
   },
   "file_extension": ".py",
   "mimetype": "text/x-python",
   "name": "python",
   "nbconvert_exporter": "python",
   "pygments_lexer": "ipython3",
   "version": "3.8.8"
  }
 },
 "nbformat": 4,
 "nbformat_minor": 2
}
