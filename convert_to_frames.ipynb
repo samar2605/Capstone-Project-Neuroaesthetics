{
 "cells": [
  {
   "cell_type": "code",
   "execution_count": null,
   "metadata": {},
   "outputs": [],
   "source": [
    "import cv2\n",
    "import os\n",
    "\n",
    "# Video file path\n",
    "video_file_path = 'fullstream.mp4'\n",
    "\n",
    "# Output directory for frames\n",
    "output_directory = 'video_frames'\n",
    "\n",
    "# Create the output directory if it doesn't exist\n",
    "if not os.path.exists(output_directory):\n",
    "    os.makedirs(output_directory)\n",
    "\n",
    "# Open the video file\n",
    "cap = cv2.VideoCapture(video_file_path)\n",
    "\n",
    "# Check if the video file opened successfully\n",
    "if not cap.isOpened():\n",
    "    print(\"Error: Couldn't open the video file.\")\n",
    "else:\n",
    "    # Read frames from the video and save them as images\n",
    "    frame_count = 0\n",
    "\n",
    "    while True:\n",
    "        ret, frame = cap.read()\n",
    "\n",
    "        # Break the loop if the video has ended\n",
    "        if not ret:\n",
    "            break\n",
    "\n",
    "        # Save the frame as an image file\n",
    "        frame_count += 1\n",
    "        frame_filename = f'{output_directory}/frame_{frame_count:04d}.png'\n",
    "        cv2.imwrite(frame_filename, frame)\n",
    "\n",
    "    # Release the video capture object\n",
    "    cap.release()\n",
    "\n",
    "    print(f\"Frames have been saved in the directory: {output_directory}\")\n"
   ]
  }
 ],
 "metadata": {
  "language_info": {
   "name": "python"
  }
 },
 "nbformat": 4,
 "nbformat_minor": 2
}
