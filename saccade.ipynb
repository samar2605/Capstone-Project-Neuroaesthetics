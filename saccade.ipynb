{
 "cells": [
  {
   "cell_type": "code",
   "execution_count": 1,
   "metadata": {},
   "outputs": [],
   "source": [
    "import os\n",
    "import pandas as pd\n",
    "import numpy as np\n",
    "import seaborn as sns\n",
    "import matplotlib.pyplot as plt\n",
    "import matplotlib.colors as colors\n",
    "from scipy import stats\n",
    "from sklearn.neighbors import KernelDensity"
   ]
  },
  {
   "cell_type": "code",
   "execution_count": 2,
   "metadata": {},
   "outputs": [],
   "source": [
    "common_path ='subject4/'"
   ]
  },
  {
   "cell_type": "code",
   "execution_count": 3,
   "metadata": {},
   "outputs": [
    {
     "name": "stdout",
     "output_type": "stream",
     "text": [
      "<class 'pandas.core.frame.DataFrame'>\n",
      "RangeIndex: 55962 entries, 0 to 55961\n",
      "Data columns (total 26 columns):\n",
      " #   Column                   Non-Null Count  Dtype  \n",
      "---  ------                   --------------  -----  \n",
      " 0   gidx                     55962 non-null  int64  \n",
      " 1   timestamp                55962 non-null  int64  \n",
      " 2   pupil_center_left_x      55962 non-null  float64\n",
      " 3   pupil_center_left_y      55962 non-null  float64\n",
      " 4   pupil_center_left_z      55962 non-null  float64\n",
      " 5   pupil_center_right_x     55962 non-null  float64\n",
      " 6   pupil_center_right_y     55962 non-null  float64\n",
      " 7   pupil_center_right_z     55962 non-null  float64\n",
      " 8   pupil_diameter_left      55962 non-null  float64\n",
      " 9   pupil_diameter_right     55962 non-null  float64\n",
      " 10  gaze_direction_left_x    55962 non-null  float64\n",
      " 11  gaze_direction_left_y    55962 non-null  float64\n",
      " 12  gaze_direction_left_z    55962 non-null  float64\n",
      " 13  gaze_direction_right_x   55962 non-null  float64\n",
      " 14  gaze_direction_right_y   55962 non-null  float64\n",
      " 15  gaze_direction_right_z   55962 non-null  float64\n",
      " 16  gaze_position_x          55962 non-null  float64\n",
      " 17  gaze_position_y          55962 non-null  float64\n",
      " 18  gaze_point_3d_x          55962 non-null  float64\n",
      " 19  gaze_point_3d_y          55962 non-null  float64\n",
      " 20  gaze_point_3d_z          55962 non-null  float64\n",
      " 21  Eye movement type        55959 non-null  object \n",
      " 22  Gaze event duration      55959 non-null  float64\n",
      " 23  Eye movement type index  55959 non-null  float64\n",
      " 24  Fixation point X         48760 non-null  float64\n",
      " 25  Fixation point Y         48760 non-null  float64\n",
      "dtypes: float64(23), int64(2), object(1)\n",
      "memory usage: 11.1+ MB\n"
     ]
    }
   ],
   "source": [
    "lambda0 = 2\n",
    "#reading dataset\n",
    "\n",
    "dataGaze = pd.read_csv(f'{common_path}merged_data.csv')\n",
    "\n",
    "#properties from dataset\n",
    "attribs = dataGaze.columns\n",
    "dataGaze.info()"
   ]
  },
  {
   "cell_type": "code",
   "execution_count": 4,
   "metadata": {},
   "outputs": [],
   "source": [
    "#3 - Conversion To Spherical Coordinates\n",
    "#In order to calculate the gaze velocity in degrees per second,\n",
    "#we will have to convert the data from its cartesian coordinate system to a spherical coordinate system.\n",
    "#Afterwards we plot the spherical coordinates over time and in space.\n",
    "def cart_to_spherical(dataGaze, apply_rad2deg=False):\n",
    "    # convert to spherical coordinates\n",
    "    x = dataGaze.gaze_point_3d_x\n",
    "    y = dataGaze.gaze_point_3d_y\n",
    "    z = dataGaze.gaze_point_3d_z\n",
    "    r = np.sqrt(x ** 2 + y ** 2 + z ** 2)\n",
    "    theta = np.arccos(y / r)  # for elevation angle defined from Z-axis down\n",
    "    psi = np.arctan2(z, x)\n",
    "\n",
    "    if apply_rad2deg:\n",
    "        theta = np.rad2deg(theta)\n",
    "        psi = np.rad2deg(psi)\n",
    "\n",
    "    return r, theta, psi\n",
    "\n",
    "def get_velocity(t, x, y):\n",
    "    dt = np.diff(t)\n",
    "    dx = np.diff(x)\n",
    "    dy = np.diff(y)\n",
    "\n",
    "    return np.divide(dx, dt), np.divide(dy, dt)\n",
    "\n",
    "def sphere_pos_over_time(ts, data, unit=\"radians\"):\n",
    "    for key, values in data.items():\n",
    "        sns.lineplot(x=ts, y=values, label=key)\n",
    "\n",
    "    plt.xlabel(\"time [sec]\")\n",
    "    plt.ylabel(unit)\n",
    "    plt.legend()\n",
    "\n",
    "def sphere_pos(r, theta, psi, unit=\"radians\"):\n",
    "    print(r.min(), r.max())\n",
    "    norm = colors.LogNorm(vmin=r.min(), vmax=r.max())\n",
    "    points = plt.scatter(\n",
    "        theta,\n",
    "        psi,\n",
    "        c=r,\n",
    "        alpha=0.5,\n",
    "        cmap=\"cubehelix\",\n",
    "        norm=norm,\n",
    "\n",
    "    )\n",
    "    cbar = plt.colorbar(points)\n",
    "    cbar.ax.set_ylabel(\"distance [mm]\", rotation=270)\n",
    "    cbar.ax.get_yaxis().labelpad = 15\n",
    "    plt.xlabel(f\"theta [{unit[:3]}]\")\n",
    "    plt.ylabel(f\"psi [{unit[:3]}]\")"
   ]
  },
  {
   "cell_type": "code",
   "execution_count": 14,
   "metadata": {},
   "outputs": [
    {
     "name": "stdout",
     "output_type": "stream",
     "text": [
      "Number of saccades: 5946\n",
      "Mean saccade speed is  124.75033883104288 (deg/s)\n"
     ]
    },
    {
     "data": {
      "image/png": "[encoded data removed]",
      "text/plain": [
       "<Figure size 720x360 with 2 Axes>"
      ]
     },
     "metadata": {
      "needs_background": "light"
     },
     "output_type": "display_data"
    }
   ],
   "source": [
    "# Read the CSV file into a pandas DataFrame\n",
    "data = pd.read_csv(f'{common_path}merged_data.csv')\n",
    "\n",
    "# Filter data for saccades\n",
    "saccade_data = data[data['Eye movement type'] == 'Saccade']\n",
    "\n",
    "# Convert Cartesian coordinates to spherical coordinates\n",
    "r, theta, psi = cart_to_spherical(saccade_data, apply_rad2deg=True)\n",
    "\n",
    "# Calculate gaze velocity\n",
    "dtheta_dt, dpsi_dt = get_velocity(saccade_data['timestamp'] / 1000000, theta, psi)\n",
    "deg_per_sec = np.sqrt(dtheta_dt ** 2 + dpsi_dt ** 2)\n",
    "\n",
    "for x in range(len(deg_per_sec)):\n",
    "    if deg_per_sec[x]>900:\n",
    "        deg_per_sec[x] = 800\n",
    "\n",
    "# Count number of saccades\n",
    "n_saccades = len(saccade_data)\n",
    "print(\"Number of saccades:\", n_saccades)\n",
    "\n",
    "time = (data.timestamp[:-1] - data.timestamp.iloc[0])/1000000\n",
    "# getting density distribution vs. amplitude and fixation duration\n",
    "amplitude = np.sqrt(theta**2 + psi**2)\n",
    "### mean saccade speed\n",
    "meanSpeed = 0\n",
    "for i in amplitude:\n",
    "    meanSpeed = meanSpeed + i\n",
    "\n",
    "meanSpeed = meanSpeed/n_saccades\n",
    "print('Mean saccade speed is ', meanSpeed, '(deg/s)')\n",
    "# Visualizing Gaze Velocity\n",
    "plt.figure(figsize=(10, 5))\n",
    "\n",
    "# Plot gaze velocity over time\n",
    "plt.subplot(1, 2, 1)\n",
    "plt.plot((saccade_data['timestamp'].values[:-1] - saccade_data['timestamp'].values[0]) / 1000000, deg_per_sec)\n",
    "plt.xlabel(\"Time (sec)\")\n",
    "plt.ylabel(\"Velocity (deg/s)\")\n",
    "plt.title(\"Saccade Velocity Over Time\")\n",
    "\n",
    "# Plot gaze velocity distribution\n",
    "plt.subplot(1, 2, 2)\n",
    "plt.hist(deg_per_sec, bins=20, edgecolor='black')\n",
    "plt.xlabel(\"Velocity (deg/s)\")\n",
    "plt.ylabel(\"Frequency\")\n",
    "plt.title(\"Saccade Velocity Distribution\")\n",
    "\n",
    "plt.tight_layout()\n",
    "plt.show()"
   ]
  },
  {
   "cell_type": "code",
   "execution_count": null,
   "metadata": {},
   "outputs": [],
   "source": []
  }
 ],
 "metadata": {
  "kernelspec": {
   "display_name": "base",
   "language": "python",
   "name": "python3"
  },
  "language_info": {
   "codemirror_mode": {
    "name": "ipython",
    "version": 3
   },
   "file_extension": ".py",
   "mimetype": "text/x-python",
   "name": "python",
   "nbconvert_exporter": "python",
   "pygments_lexer": "ipython3",
   "version": "3.8.8"
  }
 },
 "nbformat": 4,
 "nbformat_minor": 2
}
