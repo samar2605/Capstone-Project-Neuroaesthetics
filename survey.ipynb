{
 "cells": [
  {
   "cell_type": "code",
   "execution_count": 1,
   "metadata": {
    "metadata": {}
   },
   "outputs": [
    {
     "name": "stdout",
     "output_type": "stream",
     "text": [
      "Updated CSV file with 'img_selected' column has been saved.\n"
     ]
    }
   ],
   "source": [
    "import pandas as pd\n",
    "\n",
    "# Step 1: Read the CSV file into a pandas DataFrame\n",
    "file_path = 'aspect_data.csv'  # Specify the path to your CSV file\n",
    "df = pd.read_csv(file_path)\n",
    "\n",
    "# Step 2: Create the 'img_selected' column based on the conditions\n",
    "df['img_selected'] = df.apply(lambda row: 0 if row['selection'] == row['img1'] else 1 if row['selection'] == row['img2'] else None, axis=1)\n",
    "\n",
    "# Step 3: Save the updated DataFrame back to the CSV file\n",
    "df.to_csv(file_path, index=False)\n",
    "\n",
    "print(\"Updated CSV file with 'img_selected' column has been saved.\")\n"
   ]
  },
  {
   "cell_type": "code",
   "execution_count": 6,
   "metadata": {},
   "outputs": [
    {
     "name": "stdout",
     "output_type": "stream",
     "text": [
      "Percentage of selecting 0 and 1 in the 'img_selected' column:\n",
      "0    73.134328\n",
      "1    26.865672\n",
      "Name: img_selected, dtype: float64\n",
      "Percentage of selecting 0 and 1 in the 'heatmap_selected' column:\n",
      "0    54.477612\n",
      "1    45.522388\n",
      "Name: heatmap_selected, dtype: float64\n",
      "Correlation between 'img_selected' and 'heatmap_selected':\n",
      "                  img_selected  heatmap_selected\n",
      "img_selected          1.000000          0.460187\n",
      "heatmap_selected      0.460187          1.000000\n",
      "\n",
      "Counts in 'img_selected' column:\n",
      "0    98\n",
      "1    36\n",
      "Name: img_selected, dtype: int64\n",
      "\n",
      "Counts in 'heatmap_selected' column:\n",
      "0    73\n",
      "1    61\n",
      "Name: heatmap_selected, dtype: int64\n",
      "Average time_taken: 3.51\n"
     ]
    }
   ],
   "source": [
    "import pandas as pd\n",
    "\n",
    "# Step 1: Read the CSV file into a pandas DataFrame\n",
    "file_path = 'survey_data.csv'  # Specify the path to your CSV file\n",
    "df = pd.read_csv(file_path)\n",
    "\n",
    "# Step 2: Calculate the correlation between 'img_selected' and 'heatmap_selected'\n",
    "correlation = df[['img_selected', 'heatmap_selected']].corr()\n",
    "\n",
    "# Step 3: Count the occurrences of 0s and 1s in 'img_selected' and 'heatmap_selected'\n",
    "img_selected_counts = df['img_selected'].value_counts()\n",
    "heatmap_selected_counts = df['heatmap_selected'].value_counts()\n",
    "img_selected_percentages = df['img_selected'].value_counts(normalize=True) * 100\n",
    "print(\"Percentage of selecting 0 and 1 in the 'img_selected' column:\")\n",
    "print(img_selected_percentages)\n",
    "\n",
    "heatmap_selected_percentages = df['heatmap_selected'].value_counts(normalize=True) * 100\n",
    "print(\"Percentage of selecting 0 and 1 in the 'heatmap_selected' column:\")\n",
    "print(heatmap_selected_percentages)\n",
    "\n",
    "# Print the results\n",
    "print(\"Correlation between 'img_selected' and 'heatmap_selected':\")\n",
    "print(correlation)\n",
    "\n",
    "print(\"\\nCounts in 'img_selected' column:\")\n",
    "print(img_selected_counts)\n",
    "\n",
    "print(\"\\nCounts in 'heatmap_selected' column:\")\n",
    "print(heatmap_selected_counts)\n",
    "\n",
    "average_time_taken = df['time_taken'].mean()\n",
    "\n",
    "# Print the average time_taken\n",
    "print(f\"Average time_taken: {average_time_taken:.2f}\")\n"
   ]
  },
  {
   "cell_type": "code",
   "execution_count": 3,
   "metadata": {},
   "outputs": [
    {
     "name": "stdout",
     "output_type": "stream",
     "text": [
      "\n",
      "Counts in 'img_selected' column:\n",
      "0.0    356\n",
      "1.0    226\n",
      "Name: img_selected, dtype: int64\n",
      "Percentage of selecting 0 and 1 in the 'img_selected' column:\n",
      "0.0    61.168385\n",
      "1.0    38.831615\n",
      "Name: img_selected, dtype: float64\n",
      "Percentage of selecting left image:\n",
      "Average time_taken: 4.60\n",
      "Median time_taken: 3.22\n"
     ]
    }
   ],
   "source": [
    "import pandas as pd\n",
    "\n",
    "file_path = 'aspect_data.csv'  # Specify the path to your CSV file\n",
    "df = pd.read_csv(file_path)\n",
    "\n",
    "img_selected_counts = df['img_selected'].value_counts()\n",
    "\n",
    "print(\"\\nCounts in 'img_selected' column:\")\n",
    "print(img_selected_counts)\n",
    "\n",
    "img_selected_percentages = df['img_selected'].value_counts(normalize=True) * 100\n",
    "print(\"Percentage of selecting 0 and 1 in the 'img_selected' column:\")\n",
    "print(img_selected_percentages)\n",
    "\n",
    "print(\"Percentage of selecting left image:\")\n",
    "average_time_taken = df['time_taken'].mean()\n",
    "\n",
    "# Print the average time_taken\n",
    "print(f\"Average time_taken: {average_time_taken:.2f}\")\n",
    "\n",
    "\n",
    "median_time_taken = df['time_taken'].median()\n",
    "\n",
    "# Print the average time_taken\n",
    "print(f\"Median time_taken: {median_time_taken:.2f}\")"
   ]
  },
  {
   "cell_type": "code",
   "execution_count": null,
   "metadata": {},
   "outputs": [],
   "source": []
  }
 ],
 "metadata": {
  "kernelspec": {
   "display_name": "base",
   "language": "python",
   "name": "python3"
  },
  "language_info": {
   "codemirror_mode": {
    "name": "ipython",
    "version": 3
   },
   "file_extension": ".py",
   "mimetype": "text/x-python",
   "name": "python",
   "nbconvert_exporter": "python",
   "pygments_lexer": "ipython3",
   "version": "3.8.8"
  }
 },
 "nbformat": 4,
 "nbformat_minor": 2
}
