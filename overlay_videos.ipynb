{
 "cells": [
  {
   "cell_type": "code",
   "execution_count": 1,
   "metadata": {},
   "outputs": [],
   "source": [
    "import cv2\n",
    "\n",
    "# Video file paths\n",
    "video1_path = 'fullstream.mp4'\n",
    "video2_path = 'heatmaps.mp4'\n",
    "\n",
    "# Open the video files\n",
    "cap1 = cv2.VideoCapture(video1_path)\n",
    "cap2 = cv2.VideoCapture(video2_path)\n",
    "\n",
    "# Check if the video files opened successfully\n",
    "if not cap1.isOpened() or not cap2.isOpened():\n",
    "    print(\"Error: Couldn't open one or both video files.\")\n",
    "else:\n",
    "    # Get video properties\n",
    "    width = int(cap1.get(cv2.CAP_PROP_FRAME_WIDTH))\n",
    "    height = int(cap1.get(cv2.CAP_PROP_FRAME_HEIGHT))\n",
    "    fps = int(cap1.get(cv2.CAP_PROP_FPS))\n",
    "\n",
    "    # Create VideoWriter object for the output video\n",
    "    fourcc = cv2.VideoWriter_fourcc(*'mp4v')  # Adjust codec as needed\n",
    "    output_path = 'output_video.mp4'\n",
    "    out = cv2.VideoWriter(output_path, fourcc, fps, (width, height))\n",
    "\n",
    "    # Read frames from both videos and overlay them\n",
    "    while True:\n",
    "        ret1, frame1 = cap1.read()\n",
    "        ret2, frame2 = cap2.read()\n",
    "\n",
    "        # Check if either video has ended\n",
    "        if not ret1 or not ret2:\n",
    "            break\n",
    "\n",
    "        # Overlay frames (adjust the blending factor as needed)\n",
    "        alpha = 0.5  # Adjust the blending factor (0.0 for video1, 1.0 for video2)\n",
    "        blended_frame = cv2.addWeighted(frame1, alpha, frame2, 1 - alpha, 0)\n",
    "\n",
    "        # Write the blended frame to the output video\n",
    "        out.write(blended_frame)\n",
    "\n",
    "        # Display the overlay (optional)\n",
    "        cv2.imshow('Overlay', blended_frame)\n",
    "\n",
    "        # Break the loop if 'q' key is pressed\n",
    "        if cv2.waitKey(25) & 0xFF == ord('q'):\n",
    "            break\n",
    "\n",
    "    # Release video capture and writer objects, and close the window\n",
    "    cap1.release()\n",
    "    cap2.release()\n",
    "    out.release()\n",
    "    cv2.destroyAllWindows()\n"
   ]
  },
  {
   "cell_type": "code",
   "execution_count": null,
   "metadata": {},
   "outputs": [],
   "source": []
  }
 ],
 "metadata": {
  "kernelspec": {
   "display_name": "base",
   "language": "python",
   "name": "python3"
  },
  "language_info": {
   "codemirror_mode": {
    "name": "ipython",
    "version": 3
   },
   "file_extension": ".py",
   "mimetype": "text/x-python",
   "name": "python",
   "nbconvert_exporter": "python",
   "pygments_lexer": "ipython3",
   "version": "3.8.8"
  }
 },
 "nbformat": 4,
 "nbformat_minor": 2
}
